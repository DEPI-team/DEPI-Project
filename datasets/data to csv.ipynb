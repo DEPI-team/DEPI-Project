{
 "cells": [
  {
   "cell_type": "code",
   "execution_count": 1,
   "metadata": {},
   "outputs": [],
   "source": [
    "import imdb\n",
    "import csv\n",
    "import random"
   ]
  },
  {
   "cell_type": "code",
   "execution_count": 2,
   "metadata": {},
   "outputs": [],
   "source": [
    "ia = imdb.IMDb()\n",
    "csv_file = 'imdb_data.csv'"
   ]
  },
  {
   "cell_type": "code",
   "execution_count": 3,
   "metadata": {},
   "outputs": [],
   "source": [
    "ids = [random.randint(1, 1000000) for _ in range(4000)]"
   ]
  },
  {
   "cell_type": "code",
   "execution_count": 6,
   "metadata": {},
   "outputs": [],
   "source": [
    "import time\n",
    "import csv\n",
    "from imdb import IMDb, IMDbDataAccessError\n",
    "\n",
    "def get_movie_data(movie_id):\n",
    "    try:\n",
    "        movie = ia.get_movie(movie_id)\n",
    "        ia.update(movie, 'reviews')\n",
    "        ia.update(movie, 'cast')\n",
    "        data = {\n",
    "            'film_name': movie.get('title', ''),\n",
    "            'film_rate': movie.get('rating', 0.0),  # default to 0.0 if no rating\n",
    "            'plot': movie.get('plot', ''),\n",
    "            'cover_url': movie.get('cover url', ''),\n",
    "            'cast': ', '.join([person['name'] for person in movie.get('cast', [])[:3]]) if movie.get('cast') else '',  # return empty string if cast is not available\n",
    "            'reviews': movie.get('reviews', [{}])[0].get('content', '')  # default to empty string if no reviews\n",
    "        }\n",
    "        return data\n",
    "    except IMDbDataAccessError as e:\n",
    "        print(f\"Error accessing movie data: {e}\")\n",
    "        time.sleep(5)  # wait for 5 seconds before retrying\n",
    "        return get_movie_data(movie_id)  # retry accessing the data\n",
    "    except urllib.error.HTTPError as e:\n",
    "        print(f\"HTTP Error {e.code}: {e.reason}\")\n",
    "        return {'film_name': '', 'film_rate': 0.0, 'plot': '', 'cover_url': '', 'cast': '', 'reviews': ''}  # return default values"
   ]
  },
  {
   "cell_type": "code",
   "execution_count": null,
   "metadata": {},
   "outputs": [],
   "source": [
    "data_list = []\n",
    "for movie_id in ids:\n",
    "    data_list.append(get_movie_data(movie_id))"
   ]
  },
  {
   "cell_type": "code",
   "execution_count": null,
   "metadata": {},
   "outputs": [],
   "source": [
    "with open(csv_file, 'w', newline='') as csvfile:\n",
    "    writer = csv.writer(csvfile)\n",
    "    writer.writerow(['film_name', 'film_rate', 'plot', 'cover_url', 'cast', 'reviews'])\n",
    "    for data in data_list:\n",
    "        writer.writerow(list(data.values()))"
   ]
  }
 ],
 "metadata": {
  "kernelspec": {
   "display_name": ".venv",
   "language": "python",
   "name": "python3"
  },
  "language_info": {
   "codemirror_mode": {
    "name": "ipython",
    "version": 3
   },
   "file_extension": ".py",
   "mimetype": "text/x-python",
   "name": "python",
   "nbconvert_exporter": "python",
   "pygments_lexer": "ipython3",
   "version": "3.11.4"
  }
 },
 "nbformat": 4,
 "nbformat_minor": 2
}
