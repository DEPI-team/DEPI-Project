{
 "cells": [
  {
   "cell_type": "code",
   "execution_count": 1,
   "metadata": {},
   "outputs": [
    {
     "name": "stdout",
     "output_type": "stream",
     "text": [
      "Collecting git+https://github.com/ageitgey/face_recognition_models\n",
      "  Cloning https://github.com/ageitgey/face_recognition_models to c:\\users\\abdoh\\appdata\\local\\temp\\pip-req-build-n5py5x2f\n",
      "  Resolved https://github.com/ageitgey/face_recognition_models to commit e67de717267507d1e9246de95692eb8be736ab61\n",
      "  Preparing metadata (setup.py): started\n",
      "  Preparing metadata (setup.py): finished with status 'done'\n",
      "Building wheels for collected packages: face-recognition-models\n",
      "  Building wheel for face-recognition-models (setup.py): started\n",
      "  Building wheel for face-recognition-models (setup.py): finished with status 'done'\n",
      "  Created wheel for face-recognition-models: filename=face_recognition_models-0.3.0-py2.py3-none-any.whl size=100566229 sha256=d97641afd660c9c6855001b81ac47c3f267883b30d65408e313ed4190a3b7b19\n",
      "  Stored in directory: C:\\Users\\abdoh\\AppData\\Local\\Temp\\pip-ephem-wheel-cache-au09oe49\\wheels\\6b\\8f\\fa\\9679e164ae1df75c417963e1c67980c99a91022557aa736aae\n",
      "Successfully built face-recognition-models\n",
      "Installing collected packages: face-recognition-models\n",
      "Successfully installed face-recognition-models-0.3.0\n"
     ]
    },
    {
     "name": "stderr",
     "output_type": "stream",
     "text": [
      "  Running command git clone --filter=blob:none --quiet https://github.com/ageitgey/face_recognition_models 'C:\\Users\\abdoh\\AppData\\Local\\Temp\\pip-req-build-n5py5x2f'\n"
     ]
    }
   ],
   "source": [
    "!pip install git+https://github.com/ageitgey/face_recognition_models"
   ]
  }
 ],
 "metadata": {
  "kernelspec": {
   "display_name": "base",
   "language": "python",
   "name": "python3"
  },
  "language_info": {
   "codemirror_mode": {
    "name": "ipython",
    "version": 3
   },
   "file_extension": ".py",
   "mimetype": "text/x-python",
   "name": "python",
   "nbconvert_exporter": "python",
   "pygments_lexer": "ipython3",
   "version": "3.11.4"
  }
 },
 "nbformat": 4,
 "nbformat_minor": 2
}
