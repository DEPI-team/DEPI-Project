{
 "cells": [
  {
   "cell_type": "code",
   "execution_count": 91,
   "id": "737bce1b-01ef-437b-984d-8c8e97ce8cfb",
   "metadata": {},
   "outputs": [
    {
     "name": "stderr",
     "output_type": "stream",
     "text": [
      "[nltk_data] Downloading package stopwords to\n",
      "[nltk_data]     C:\\Users\\ZED\\AppData\\Roaming\\nltk_data...\n",
      "[nltk_data]   Package stopwords is already up-to-date!\n"
     ]
    }
   ],
   "source": [
    "import csv\n",
    "import tensorflow as tf\n",
    "import numpy as np\n",
    "import matplotlib.pyplot as plt\n",
    "from tensorflow.keras.preprocessing.text import Tokenizer\n",
    "from tensorflow.keras.preprocessing.sequence import pad_sequences\n",
    "from tensorflow.keras.models import Sequential\n",
    "from tensorflow.keras.layers import Dense, Flatten, LSTM, Dropout, Activation, Embedding, Bidirectional,SimpleRNN\n",
    "import nltk\n",
    "nltk.download('stopwords')\n",
    "from nltk.corpus import stopwords\n",
    "STOPWORDS = set(stopwords.words('english'))"
   ]
  },
  {
   "cell_type": "code",
   "execution_count": 92,
   "id": "11c439b5-176a-4ece-9c33-2b74bb0b54a7",
   "metadata": {},
   "outputs": [],
   "source": [
    "vocab_size = 5000\n",
    "embedding_dim = 64\n",
    "\n",
    "oov_tok = '<OOV>' #  Out of Vocabulary\n",
    "training_portion = 0.8"
   ]
  },
  {
   "cell_type": "code",
   "execution_count": 93,
   "id": "61f97c53-057a-4fab-a7b6-f683b69a45d6",
   "metadata": {},
   "outputs": [],
   "source": [
    "articles = []\n",
    "labels = []\n",
    "\n",
    "with open(\"tmdb_5000_movies.csv\", 'r',encoding='utf-8') as csvfile:\n",
    "    reader = csv.reader(csvfile, delimiter=',')\n",
    "    next(reader)\n",
    "    for row in reader:\n",
    "        labels.append(row[0])\n",
    "        article = row[1]\n",
    "        for word in STOPWORDS:\n",
    "            token = ' ' + word + ' '\n",
    "            \n",
    "            article = article.replace(token, ' ')\n",
    "            article = article.replace(' ', ' ')\n",
    "        articles.append(article)\n"
   ]
  },
  {
   "cell_type": "code",
   "execution_count": 94,
   "id": "543ddff1-1f09-4b86-8684-3067cbd23e1d",
   "metadata": {},
   "outputs": [
    {
     "data": {
      "text/plain": [
       "(4803, 4803)"
      ]
     },
     "execution_count": 94,
     "metadata": {},
     "output_type": "execute_result"
    }
   ],
   "source": [
    "len(labels),len(articles)"
   ]
  },
  {
   "cell_type": "code",
   "execution_count": 95,
   "id": "ca6fc898-d53f-46ed-a862-2d0171c9e7ca",
   "metadata": {},
   "outputs": [],
   "source": [
    "train_size = int(len(articles) * training_portion)\n",
    "\n",
    "train_articles = articles[0: train_size]\n",
    "train_labels = labels[0: train_size]\n",
    "\n",
    "validation_articles = articles[train_size:]\n",
    "validation_labels = labels[train_size:]"
   ]
  },
  {
   "cell_type": "code",
   "execution_count": 96,
   "id": "0969c550",
   "metadata": {},
   "outputs": [
    {
     "name": "stdout",
     "output_type": "stream",
     "text": [
      "train_articles 3842\n",
      "train_labels 3842\n",
      "validation_articles 961\n",
      "validation_labels 961\n"
     ]
    }
   ],
   "source": [
    "print('train_articles' ,len(train_articles))\n",
    "print('train_labels', len(train_labels))\n",
    "print('validation_articles', len(validation_articles))\n",
    "print('validation_labels', len(validation_labels))"
   ]
  },
  {
   "cell_type": "code",
   "execution_count": 97,
   "id": "7a850aec",
   "metadata": {},
   "outputs": [],
   "source": [
    "tokenizer = Tokenizer(num_words = vocab_size, oov_token=oov_tok)\n",
    "tokenizer.fit_on_texts(train_articles)\n",
    "word_index = tokenizer.word_index"
   ]
  },
  {
   "cell_type": "code",
   "execution_count": 98,
   "id": "c6b7727c",
   "metadata": {},
   "outputs": [
    {
     "data": {
      "text/plain": [
       "{'<OOV>': 1,\n",
       " 'id': 2,\n",
       " 'name': 3,\n",
       " '18': 4,\n",
       " 'drama': 5,\n",
       " '35': 6,\n",
       " 'comedy': 7,\n",
       " '53': 8,\n",
       " 'thriller': 9,\n",
       " '28': 10,\n",
       " 'action': 11,\n",
       " '12': 12,\n",
       " 'adventure': 13,\n",
       " '10749': 14,\n",
       " 'romance': 15,\n",
       " '80': 16,\n",
       " 'crime': 17,\n",
       " '10751': 18,\n",
       " 'family': 19,\n",
       " '878': 20,\n",
       " 'science': 21,\n",
       " 'fiction': 22,\n",
       " '14': 23,\n",
       " 'fantasy': 24,\n",
       " '27': 25,\n",
       " 'horror': 26,\n",
       " '9648': 27,\n",
       " 'mystery': 28,\n",
       " '16': 29,\n",
       " 'animation': 30,\n",
       " '36': 31,\n",
       " 'history': 32,\n",
       " '10402': 33,\n",
       " 'music': 34,\n",
       " '10752': 35,\n",
       " 'war': 36,\n",
       " '37': 37,\n",
       " 'western': 38,\n",
       " '99': 39,\n",
       " 'documentary': 40,\n",
       " '10769': 41,\n",
       " 'foreign': 42,\n",
       " '10770': 43,\n",
       " 'tv': 44,\n",
       " 'movie': 45}"
      ]
     },
     "execution_count": 98,
     "metadata": {},
     "output_type": "execute_result"
    }
   ],
   "source": [
    "word_index\n",
    "\n",
    "\n"
   ]
  },
  {
   "cell_type": "code",
   "execution_count": 111,
   "id": "0f8bccf2",
   "metadata": {},
   "outputs": [
    {
     "data": {
      "text/plain": [
       "3842"
      ]
     },
     "execution_count": 111,
     "metadata": {},
     "output_type": "execute_result"
    }
   ],
   "source": [
    "train_sequences = tokenizer.texts_to_sequences(train_articles)\n",
    "len(train_sequences)"
   ]
  },
  {
   "cell_type": "code",
   "execution_count": 100,
   "id": "77953845",
   "metadata": {},
   "outputs": [
    {
     "data": {
      "text/plain": [
       "[2, 10, 3, 11, 2, 12, 3, 13, 2, 23, 3, 24, 2, 20, 3, 21, 22]"
      ]
     },
     "execution_count": 100,
     "metadata": {},
     "output_type": "execute_result"
    }
   ],
   "source": [
    "train_sequences[0]"
   ]
  },
  {
   "cell_type": "code",
   "execution_count": 101,
   "id": "37424479",
   "metadata": {},
   "outputs": [],
   "source": [
    "train_padded = pad_sequences(train_sequences, maxlen=max_length,)"
   ]
  },
  {
   "cell_type": "code",
   "execution_count": 114,
   "id": "49bf3b33",
   "metadata": {},
   "outputs": [
    {
     "data": {
      "text/plain": [
       "(3842, 200)"
      ]
     },
     "execution_count": 114,
     "metadata": {},
     "output_type": "execute_result"
    }
   ],
   "source": [
    "len(train_padded),len(train_padded[0])"
   ]
  },
  {
   "cell_type": "code",
   "execution_count": 103,
   "id": "796d1696",
   "metadata": {},
   "outputs": [],
   "source": [
    "train_padded = train_padded.astype('float32')\n",
    "training_label_seq = training_label_seq.astype('int32')\n"
   ]
  },
  {
   "cell_type": "code",
   "execution_count": 115,
   "id": "96efc9c4",
   "metadata": {},
   "outputs": [],
   "source": [
    "validation_sequences = tokenizer.texts_to_sequences(validation_articles)\n",
    "validation_padded = pad_sequences(validation_sequences, maxlen=max_length)"
   ]
  },
  {
   "cell_type": "code",
   "execution_count": 116,
   "id": "5c8c08b3",
   "metadata": {},
   "outputs": [],
   "source": [
    "label_tokenizer = Tokenizer()\n",
    "label_tokenizer.fit_on_texts(labels)\n",
    "\n",
    "training_label_seq = np.array(label_tokenizer.texts_to_sequences(train_labels))\n",
    "validation_label_seq = np.array(label_tokenizer.texts_to_sequences(validation_labels))"
   ]
  },
  {
   "cell_type": "code",
   "execution_count": 122,
   "id": "728a53ac",
   "metadata": {},
   "outputs": [],
   "source": [
    "training_label_seq = np.argmax(training_label_seq, axis=1)\n",
    "validation_label_seq = np.argmax(validation_label_seq, axis=1)\n"
   ]
  },
  {
   "cell_type": "code",
   "execution_count": 123,
   "id": "b0e71e23",
   "metadata": {},
   "outputs": [
    {
     "data": {
      "text/plain": [
       "('237000000', 0)"
      ]
     },
     "execution_count": 123,
     "metadata": {},
     "output_type": "execute_result"
    }
   ],
   "source": [
    "train_labels[0], training_label_seq[0]"
   ]
  },
  {
   "cell_type": "code",
   "execution_count": 124,
   "id": "1e9614ea",
   "metadata": {},
   "outputs": [
    {
     "name": "stdout",
     "output_type": "stream",
     "text": [
      "Model: \"sequential_5\"\n",
      "_________________________________________________________________\n",
      " Layer (type)                Output Shape              Param #   \n",
      "=================================================================\n",
      " embedding_5 (Embedding)     (None, None, 64)          320000    \n",
      "                                                                 \n",
      " dropout_5 (Dropout)         (None, None, 64)          0         \n",
      "                                                                 \n",
      " bidirectional_5 (Bidirecti  (None, 128)               66048     \n",
      " onal)                                                           \n",
      "                                                                 \n",
      " dense_5 (Dense)             (None, 6)                 774       \n",
      "                                                                 \n",
      "=================================================================\n",
      "Total params: 386822 (1.48 MB)\n",
      "Trainable params: 386822 (1.48 MB)\n",
      "Non-trainable params: 0 (0.00 Byte)\n",
      "_________________________________________________________________\n"
     ]
    }
   ],
   "source": [
    "model = Sequential()\n",
    "model.add(Embedding(vocab_size,embedding_dim ))\n",
    "model.add(Dropout(0.5))\n",
    "model.add(Bidirectional(LSTM(embedding_dim)))\n",
    "model.add(Dense(6,activation='softmax' ))\n",
    "model.summary()"
   ]
  },
  {
   "cell_type": "code",
   "execution_count": 125,
   "id": "1c69ae77",
   "metadata": {},
   "outputs": [],
   "source": [
    "import tensorflow as tf\n",
    "\n",
    "# Define the learning rate schedule\n",
    "lr_schedule = tf.keras.optimizers.schedules.ExponentialDecay(\n",
    "    initial_learning_rate=0.001,\n",
    "    decay_steps=100000,\n",
    "    decay_rate=0.96,\n",
    "    staircase=True)\n",
    "\n",
    "# Use the new Adam optimizer (no legacy required)\n",
    "optimizer = tf.keras.optimizers.Adam(learning_rate=lr_schedule)\n",
    "\n",
    "# Compile the model with the correct optimizer, loss, and metrics\n",
    "model.compile(optimizer=optimizer, \n",
    "              loss='sparse_categorical_crossentropy', \n",
    "              metrics=['accuracy'])\n"
   ]
  },
  {
   "cell_type": "code",
   "execution_count": 126,
   "id": "0580bd75",
   "metadata": {},
   "outputs": [
    {
     "name": "stdout",
     "output_type": "stream",
     "text": [
      "Epoch 1/20\n",
      "121/121 - 12s - loss: 0.1402 - accuracy: 0.9935 - val_loss: 3.0745e-05 - val_accuracy: 1.0000 - 12s/epoch - 97ms/step\n",
      "Epoch 2/20\n",
      "121/121 - 8s - loss: 2.5180e-05 - accuracy: 1.0000 - val_loss: 2.0423e-05 - val_accuracy: 1.0000 - 8s/epoch - 65ms/step\n",
      "Epoch 3/20\n",
      "121/121 - 8s - loss: 1.7257e-05 - accuracy: 1.0000 - val_loss: 1.4550e-05 - val_accuracy: 1.0000 - 8s/epoch - 65ms/step\n",
      "Epoch 4/20\n",
      "121/121 - 8s - loss: 1.2659e-05 - accuracy: 1.0000 - val_loss: 1.1001e-05 - val_accuracy: 1.0000 - 8s/epoch - 64ms/step\n",
      "Epoch 5/20\n",
      "121/121 - 9s - loss: 9.7695e-06 - accuracy: 1.0000 - val_loss: 8.6772e-06 - val_accuracy: 1.0000 - 9s/epoch - 70ms/step\n",
      "Epoch 6/20\n",
      "121/121 - 8s - loss: 7.8075e-06 - accuracy: 1.0000 - val_loss: 7.0269e-06 - val_accuracy: 1.0000 - 8s/epoch - 69ms/step\n",
      "Epoch 7/20\n",
      "121/121 - 8s - loss: 6.4047e-06 - accuracy: 1.0000 - val_loss: 5.8500e-06 - val_accuracy: 1.0000 - 8s/epoch - 66ms/step\n",
      "Epoch 8/20\n",
      "121/121 - 8s - loss: 5.3549e-06 - accuracy: 1.0000 - val_loss: 4.8491e-06 - val_accuracy: 1.0000 - 8s/epoch - 66ms/step\n",
      "Epoch 9/20\n",
      "121/121 - 8s - loss: 4.5434e-06 - accuracy: 1.0000 - val_loss: 4.2300e-06 - val_accuracy: 1.0000 - 8s/epoch - 67ms/step\n",
      "Epoch 10/20\n",
      "121/121 - 8s - loss: 3.8876e-06 - accuracy: 1.0000 - val_loss: 3.5763e-06 - val_accuracy: 1.0000 - 8s/epoch - 67ms/step\n",
      "Epoch 11/20\n",
      "121/121 - 8s - loss: 3.3625e-06 - accuracy: 1.0000 - val_loss: 3.1148e-06 - val_accuracy: 1.0000 - 8s/epoch - 68ms/step\n",
      "Epoch 12/20\n",
      "121/121 - 8s - loss: 2.8961e-06 - accuracy: 1.0000 - val_loss: 2.7418e-06 - val_accuracy: 1.0000 - 8s/epoch - 66ms/step\n",
      "Epoch 13/20\n",
      "121/121 - 8s - loss: 2.4905e-06 - accuracy: 1.0000 - val_loss: 2.3842e-06 - val_accuracy: 1.0000 - 8s/epoch - 66ms/step\n",
      "Epoch 14/20\n",
      "121/121 - 8s - loss: 2.1601e-06 - accuracy: 1.0000 - val_loss: 2.0266e-06 - val_accuracy: 1.0000 - 8s/epoch - 65ms/step\n",
      "Epoch 15/20\n",
      "121/121 - 8s - loss: 1.9581e-06 - accuracy: 1.0000 - val_loss: 1.7919e-06 - val_accuracy: 1.0000 - 8s/epoch - 65ms/step\n",
      "Epoch 16/20\n",
      "121/121 - 8s - loss: 1.7208e-06 - accuracy: 1.0000 - val_loss: 1.6689e-06 - val_accuracy: 1.0000 - 8s/epoch - 64ms/step\n",
      "Epoch 17/20\n",
      "121/121 - 8s - loss: 1.5912e-06 - accuracy: 1.0000 - val_loss: 1.4716e-06 - val_accuracy: 1.0000 - 8s/epoch - 64ms/step\n",
      "Epoch 18/20\n",
      "121/121 - 8s - loss: 1.4388e-06 - accuracy: 1.0000 - val_loss: 1.4305e-06 - val_accuracy: 1.0000 - 8s/epoch - 63ms/step\n",
      "Epoch 19/20\n",
      "121/121 - 8s - loss: 1.3353e-06 - accuracy: 1.0000 - val_loss: 1.2332e-06 - val_accuracy: 1.0000 - 8s/epoch - 63ms/step\n",
      "Epoch 20/20\n",
      "121/121 - 8s - loss: 1.1936e-06 - accuracy: 1.0000 - val_loss: 1.1304e-06 - val_accuracy: 1.0000 - 8s/epoch - 63ms/step\n"
     ]
    }
   ],
   "source": [
    "num_epochs = 20\n",
    "history = model.fit(train_padded, training_label_seq, epochs=num_epochs, validation_data=(validation_padded, validation_label_seq), verbose=2)"
   ]
  },
  {
   "cell_type": "code",
   "execution_count": 28,
   "id": "972ea936",
   "metadata": {},
   "outputs": [
    {
     "data": {
      "text/plain": [
       "[2, 10, 3, 11, 2, 12, 3, 13, 2, 23, 3, 24, 2, 20, 3, 21, 22]"
      ]
     },
     "execution_count": 28,
     "metadata": {},
     "output_type": "execute_result"
    }
   ],
   "source": []
  },
  {
   "cell_type": "code",
   "execution_count": 47,
   "id": "fd411436",
   "metadata": {},
   "outputs": [],
   "source": []
  },
  {
   "cell_type": "code",
   "execution_count": 48,
   "id": "2de6574c",
   "metadata": {},
   "outputs": [],
   "source": []
  },
  {
   "cell_type": "code",
   "execution_count": 49,
   "id": "079e898e",
   "metadata": {},
   "outputs": [],
   "source": []
  },
  {
   "cell_type": "code",
   "execution_count": null,
   "id": "58ae7af9",
   "metadata": {},
   "outputs": [],
   "source": [
    "\n"
   ]
  },
  {
   "cell_type": "code",
   "execution_count": null,
   "id": "ee89dfcf",
   "metadata": {},
   "outputs": [],
   "source": []
  },
  {
   "cell_type": "code",
   "execution_count": 112,
   "id": "a710dd0a",
   "metadata": {},
   "outputs": [
    {
     "data": {
      "image/png": "[encoded data removed]",
      "text/plain": [
       "<Figure size 640x480 with 1 Axes>"
      ]
     },
     "metadata": {},
     "output_type": "display_data"
    }
   ],
   "source": [
    "plt.plot(history.history['accuracy'])\n",
    "plt.plot(history.history['val_accuracy'])\n",
    "plt.title('model accuracy')\n",
    "plt.ylabel('accuracy')\n",
    "plt.xlabel('epoch')\n",
    "plt.legend(['train', 'test'], loc='upper left')\n",
    "plt.show()"
   ]
  },
  {
   "cell_type": "code",
   "execution_count": null,
   "id": "05943c82",
   "metadata": {},
   "outputs": [],
   "source": []
  },
  {
   "cell_type": "code",
   "execution_count": null,
   "id": "918a45ff",
   "metadata": {},
   "outputs": [],
   "source": []
  },
  {
   "cell_type": "code",
   "execution_count": null,
   "id": "8294480f",
   "metadata": {},
   "outputs": [],
   "source": []
  }
 ],
 "metadata": {
  "kernelspec": {
   "display_name": "Python 3 (ipykernel)",
   "language": "python",
   "name": "python3"
  },
  "language_info": {
   "codemirror_mode": {
    "name": "ipython",
    "version": 3
   },
   "file_extension": ".py",
   "mimetype": "text/x-python",
   "name": "python",
   "nbconvert_exporter": "python",
   "pygments_lexer": "ipython3",
   "version": "3.10.9"
  }
 },
 "nbformat": 4,
 "nbformat_minor": 5
}
