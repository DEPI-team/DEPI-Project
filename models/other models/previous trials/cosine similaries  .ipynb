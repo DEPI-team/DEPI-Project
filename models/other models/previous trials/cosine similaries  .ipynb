{
 "cells": [
  {
   "cell_type": "code",
   "execution_count": 10,
   "metadata": {},
   "outputs": [
    {
     "name": "stdout",
     "output_type": "stream",
     "text": [
      "Movies recommended based on heat:\n",
      "Title: The Reader, Rating: 7.6\n",
      "Title: Righteous Kill, Rating: 6.0\n",
      "Title: Takers, Rating: 6.2\n"
     ]
    }
   ],
   "source": [
    "import pandas as pd\n",
    "import re\n",
    "from sklearn.feature_extraction.text import TfidfVectorizer\n",
    "from sklearn.metrics.pairwise import cosine_similarity\n",
    "\n",
    "# Load the movie dataset\n",
    "data = pd.read_csv(r'D:\\abdo\\AI\\projects\\recommender\\needed features\\imdb_data.csv')\n",
    "\n",
    "# Convert data to a DataFrame\n",
    "df = pd.DataFrame(data)\n",
    "\n",
    "# Replace NaN values in 'overview', 'cast', and 'reviews' columns with an empty string\n",
    "df['overview'] = df['overview'].fillna('')\n",
    "df['reviews'] = df['reviews'].fillna('')\n",
    "df['cast'] = df['cast'].fillna('')\n",
    "\n",
    "# Combine 'overview', 'cast', and 'reviews' for similarity comparison\n",
    "df['combined_features'] = df['overview'] + ' ' + df['cast'] + ' ' + df['reviews']\n",
    "\n",
    "# Text Vectorization using TF-IDF\n",
    "tfidf = TfidfVectorizer(stop_words='english', ngram_range=(1, 2))  # Using bi-grams for better context\n",
    "tfidf_matrix = tfidf.fit_transform(df['combined_features'].fillna(''))  # Transform combined features into TF-IDF matrix\n",
    "\n",
    "# Calculate cosine similarity between all movies\n",
    "cosine_sim = cosine_similarity(tfidf_matrix, tfidf_matrix)\n",
    "\n",
    "def recommend_movies(movie_title, cosine_sim=cosine_sim, df=df):\n",
    "    # Extract the actual movie title from the title column\n",
    "    pattern = r'^(.+?)(?=,\\d+\\.|$)'\n",
    "    title_pattern = re.compile(pattern)\n",
    "\n",
    "    def extract_title(title):\n",
    "        if pd.isna(title):\n",
    "            return ''\n",
    "        title = title.lower()  # Convert to lowercase\n",
    "        title = re.sub(r'\\s*\\(\\d{4}\\)$', '', title)  # Remove year information\n",
    "        match = title_pattern.search(str(title))\n",
    "        if match:\n",
    "            return match.group(1).strip()\n",
    "        return title\n",
    "\n",
    "    # Check if the movie title exists in the dataset\n",
    "    if extract_title(movie_title) in df['title'].apply(extract_title).values:\n",
    "        # Get the index of the movie that matches the title\n",
    "        idx = df.index[df['title'].apply(extract_title) == extract_title(movie_title)][0]\n",
    "        \n",
    "        # Get the pairwise similarity scores of all movies with that movie\n",
    "        sim_scores = list(enumerate(cosine_sim[idx]))\n",
    "        \n",
    "        # Sort the movies based on similarity scores\n",
    "        sim_scores = sorted(sim_scores, key=lambda x: x[1], reverse=True)\n",
    "        \n",
    "        # Get the top 3 most similar movies (excluding the input movie itself)\n",
    "        recommended_movies = []\n",
    "        for score in sim_scores[1:]:\n",
    "            original_title = df.iloc[score[0]]['title']\n",
    "            film_rate = df.iloc[score[0]]['film_rate']\n",
    "            recommended_movies.append((original_title, film_rate))\n",
    "            if len(recommended_movies) == 3:  # Limit to top 3 movies\n",
    "                break\n",
    "        \n",
    "        # Return the top 3 most similar movies with their ratings\n",
    "        return recommended_movies\n",
    "    else:\n",
    "        return []  # Return an empty list when the movie is not found\n",
    "\n",
    "# Example: Recommend movies based on \"heat\"\n",
    "\n",
    "test='heat'\n",
    "recommended_movies_1 = recommend_movies(test)\n",
    "print(f\"Movies recommended based on {test}:\")\n",
    "for title, rating in recommended_movies_1:\n",
    "    print(f\"Title: {title}, Rating: {rating}\")"
   ]
  },
  {
   "cell_type": "code",
   "execution_count": 13,
   "metadata": {},
   "outputs": [
    {
     "name": "stdout",
     "output_type": "stream",
     "text": [
      "Movies recommended based on Before and After:\n",
      "Title: One True Thing, Rating: 6.9\n",
      "Title: Like Crazy, Rating: 6.6\n",
      "Title: Music of the Heart, Rating: 6.7\n"
     ]
    }
   ],
   "source": [
    "test='Before and After'\n",
    "recommended_movies_1 = recommend_movies(test)\n",
    "print(f\"Movies recommended based on {test}:\")\n",
    "for title, rating in recommended_movies_1:\n",
    "    print(f\"Title: {title}, Rating: {rating}\")"
   ]
  }
 ],
 "metadata": {
  "kernelspec": {
   "display_name": "base",
   "language": "python",
   "name": "python3"
  },
  "language_info": {
   "codemirror_mode": {
    "name": "ipython",
    "version": 3
   },
   "file_extension": ".py",
   "mimetype": "text/x-python",
   "name": "python",
   "nbconvert_exporter": "python",
   "pygments_lexer": "ipython3",
   "version": "3.11.4"
  }
 },
 "nbformat": 4,
 "nbformat_minor": 2
}
