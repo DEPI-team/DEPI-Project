{
 "cells": [
  {
   "cell_type": "code",
   "execution_count": 1,
   "metadata": {},
   "outputs": [
    {
     "name": "stdout",
     "output_type": "stream",
     "text": [
      "Requirement already satisfied: flask in c:\\users\\abdoh\\appdata\\local\\anaconda3\\lib\\site-packages (2.2.2)\n",
      "Requirement already satisfied: Werkzeug>=2.2.2 in c:\\users\\abdoh\\appdata\\local\\anaconda3\\lib\\site-packages (from flask) (2.2.3)\n",
      "Requirement already satisfied: Jinja2>=3.0 in c:\\users\\abdoh\\appdata\\local\\anaconda3\\lib\\site-packages (from flask) (3.1.2)\n",
      "Requirement already satisfied: itsdangerous>=2.0 in c:\\users\\abdoh\\appdata\\local\\anaconda3\\lib\\site-packages (from flask) (2.0.1)\n",
      "Requirement already satisfied: click>=8.0 in c:\\users\\abdoh\\appdata\\local\\anaconda3\\lib\\site-packages (from flask) (8.0.4)\n",
      "Requirement already satisfied: colorama in c:\\users\\abdoh\\appdata\\local\\anaconda3\\lib\\site-packages (from click>=8.0->flask) (0.4.6)\n",
      "Requirement already satisfied: MarkupSafe>=2.0 in c:\\users\\abdoh\\appdata\\local\\anaconda3\\lib\\site-packages (from Jinja2>=3.0->flask) (2.1.1)\n"
     ]
    }
   ],
   "source": [
    "!pip install flask"
   ]
  },
  {
   "cell_type": "code",
   "execution_count": 3,
   "metadata": {},
   "outputs": [
    {
     "name": "stderr",
     "output_type": "stream",
     "text": [
      "c:\\Users\\abdoh\\AppData\\Local\\anaconda3\\Lib\\site-packages\\transformers\\tokenization_utils_base.py:1601: FutureWarning: `clean_up_tokenization_spaces` was not set. It will be set to `True` by default. This behavior will be depracted in transformers v4.45, and will be then set to `False` by default. For more details check this issue: https://github.com/huggingface/transformers/issues/31884\n",
      "  warnings.warn(\n"
     ]
    },
    {
     "name": "stdout",
     "output_type": "stream",
     "text": [
      " * Serving Flask app '__main__'\n",
      " * Debug mode: on\n"
     ]
    },
    {
     "name": "stderr",
     "output_type": "stream",
     "text": [
      "WARNING: This is a development server. Do not use it in a production deployment. Use a production WSGI server instead.\n",
      " * Running on http://127.0.0.1:5000\n",
      "Press CTRL+C to quit\n",
      " * Restarting with watchdog (windowsapi)\n"
     ]
    },
    {
     "ename": "SystemExit",
     "evalue": "1",
     "output_type": "error",
     "traceback": [
      "An exception has occurred, use %tb to see the full traceback.\n",
      "\u001b[1;31mSystemExit\u001b[0m\u001b[1;31m:\u001b[0m 1\n"
     ]
    },
    {
     "name": "stderr",
     "output_type": "stream",
     "text": [
      "c:\\Users\\abdoh\\AppData\\Local\\anaconda3\\Lib\\site-packages\\IPython\\core\\interactiveshell.py:3513: UserWarning: To exit: use 'exit', 'quit', or Ctrl-D.\n",
      "  warn(\"To exit: use 'exit', 'quit', or Ctrl-D.\", stacklevel=1)\n"
     ]
    }
   ],
   "source": [
    "from flask import Flask, request, jsonify\n",
    "from transformers import AutoTokenizer, AutoModel\n",
    "import pandas as pd\n",
    "import torch\n",
    "import numpy as np\n",
    "from sklearn.metrics.pairwise import cosine_similarity\n",
    "import re\n",
    "import requests\n",
    "\n",
    "app = Flask(__name__)\n",
    "\n",
    "# Load the dataset\n",
    "df = pd.read_csv(r\"D:\\abdo\\AI\\projects\\recommender\\chatbot\\movies_with_tags_rating.csv\")\n",
    "\n",
    "# Initialize DistilBERT model and tokenizer\n",
    "model_name = \"distilbert-base-uncased\"\n",
    "tokenizer = AutoTokenizer.from_pretrained(model_name)\n",
    "model = AutoModel.from_pretrained(model_name)\n",
    "\n",
    "# Clean movie titles\n",
    "def clean_movie_title(title):\n",
    "    return re.sub(r'\\s*\\(.*?\\)\\s*', '', str(title).lower()).strip()\n",
    "\n",
    "# Apply title cleaning to the dataset\n",
    "df['cleaned_title'] = df['title'].apply(clean_movie_title)\n",
    "\n",
    "# Load precomputed embedding matrices\n",
    "embedding_features = ['overview', 'genre', 'cast', 'director', 'combined']\n",
    "for feature in embedding_features:\n",
    "    matrix = np.load(f'{feature}_embedding_matrix.npy')\n",
    "    df[f'{feature}_embedding'] = list(matrix)\n",
    "\n",
    "# Fetch similar movies from TMDb\n",
    "def fetch_tmdb_recommendations(movie_title):\n",
    "    api_key = \"ddad317e776c8ec2f92ec52efe9d34f5\"  \n",
    "    search_response = requests.get(f\"https://api.themoviedb.org/3/search/movie?api_key={api_key}&query={movie_title}\").json()\n",
    "\n",
    "    if 'results' in search_response and search_response['results']:\n",
    "        movie_id = search_response['results'][0]['id']\n",
    "        recommendations_response = requests.get(f\"https://api.themoviedb.org/3/movie/{movie_id}/similar?api_key={api_key}\").json()\n",
    "\n",
    "        genres_response = requests.get(f\"https://api.themoviedb.org/3/genre/movie/list?api_key={api_key}\").json()\n",
    "        genre_mapping = {genre['id']: genre['name'] for genre in genres_response['genres']}\n",
    "\n",
    "        similar_movies = []\n",
    "        for movie in recommendations_response['results']:\n",
    "            movie_genres = [genre_mapping.get(genre_id, \"Unknown\") for genre_id in movie['genre_ids']]\n",
    "            similar_movies.append({\n",
    "                'title': movie['title'],\n",
    "                'genre': ', '.join(movie_genres),\n",
    "                'rating': movie.get('vote_average', 'N/A')\n",
    "            })\n",
    "\n",
    "        return pd.DataFrame(similar_movies).head(3)\n",
    "\n",
    "    return None\n",
    "\n",
    "# Recommend similar movies\n",
    "def recommend_similar_movies(movie_title, df, top_n=3):\n",
    "    cleaned_movie_title = clean_movie_title(movie_title)\n",
    "\n",
    "    if cleaned_movie_title in df['cleaned_title'].values:\n",
    "        movie_index = df[df['cleaned_title'] == cleaned_movie_title].index[0]\n",
    "        input_embedding = df.loc[movie_index, 'combined_embedding']\n",
    "        embedding_matrix = np.stack(df['combined_embedding'].values)\n",
    "\n",
    "        similarities = cosine_similarity([input_embedding], embedding_matrix)[0]\n",
    "        similar_movies = df.iloc[np.argsort(similarities)[::-1][1:top_n+1]]\n",
    "        return similar_movies[['title', 'genre', 'rating']]\n",
    "    \n",
    "    return fetch_tmdb_recommendations(movie_title)\n",
    "\n",
    "# Flask route to accept chatbot input and return recommendations\n",
    "@app.route('/chat', methods=['POST'])\n",
    "def chat():\n",
    "    user_message = request.json.get('message')\n",
    "    \n",
    "    # Extract the movie title from the user's input\n",
    "    movie_title = re.search(r\"(?:love|like|watch)\\s+(.*)\", user_message, re.IGNORECASE)\n",
    "    if movie_title:\n",
    "        movie_title = movie_title.group(1).strip()\n",
    "        recommendations = recommend_similar_movies(movie_title, df)\n",
    "\n",
    "        if recommendations is not None:\n",
    "            return jsonify(recommendations.to_dict(orient='records'))\n",
    "        else:\n",
    "            return jsonify({'message': f\"No recommendations found for '{movie_title}'.\"})\n",
    "    \n",
    "    return jsonify({'message': 'Please provide a valid movie title in your query.'})\n",
    "\n",
    "if __name__ == '__main__':\n",
    "    app.run(debug=True)\n",
    "\n"
   ]
  }
 ],
 "metadata": {
  "kernelspec": {
   "display_name": "base",
   "language": "python",
   "name": "python3"
  },
  "language_info": {
   "codemirror_mode": {
    "name": "ipython",
    "version": 3
   },
   "file_extension": ".py",
   "mimetype": "text/x-python",
   "name": "python",
   "nbconvert_exporter": "python",
   "pygments_lexer": "ipython3",
   "version": "3.11.4"
  }
 },
 "nbformat": 4,
 "nbformat_minor": 2
}
